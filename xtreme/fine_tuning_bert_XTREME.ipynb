{
 "cells": [
  {
   "cell_type": "markdown",
   "metadata": {
    "colab_type": "text",
    "id": "vXLA5InzXydn"
   },
   "source": [
    "##### Copyright 2019 The TensorFlow Authors."
   ]
  },
  {
   "cell_type": "code",
   "execution_count": 1,
   "metadata": {
    "cellView": "form",
    "colab": {},
    "colab_type": "code",
    "id": "RuRlpLL-X0R_"
   },
   "outputs": [],
   "source": [
    "#@title Licensed under the Apache License, Version 2.0 (the \"License\");\n",
    "# you may not use this file except in compliance with the License.\n",
    "# You may obtain a copy of the License at\n",
    "#\n",
    "# https://www.apache.org/licenses/LICENSE-2.0\n",
    "#\n",
    "# Unless required by applicable law or agreed to in writing, software\n",
    "# distributed under the License is distributed on an \"AS IS\" BASIS,\n",
    "# WITHOUT WARRANTIES OR CONDITIONS OF ANY KIND, either express or implied.\n",
    "# See the License for the specific language governing permissions and\n",
    "# limitations under the License."
   ]
  },
  {
   "cell_type": "code",
   "execution_count": 2,
   "metadata": {
    "colab": {},
    "colab_type": "code",
    "id": "NvNr2svBM-p3"
   },
   "outputs": [],
   "source": [
    "!pip install -q tf-models-official==2.3.0"
   ]
  },
  {
   "cell_type": "markdown",
   "metadata": {
    "colab_type": "text",
    "id": "U-7qPCjWUAyy"
   },
   "source": [
    "### Imports"
   ]
  },
  {
   "cell_type": "code",
   "execution_count": 3,
   "metadata": {
    "colab": {},
    "colab_type": "code",
    "id": "lXsXev5MNr20"
   },
   "outputs": [],
   "source": [
    "import os\n",
    "\n",
    "import numpy as np\n",
    "import matplotlib.pyplot as plt\n",
    "\n",
    "import tensorflow as tf\n",
    "\n",
    "import tensorflow_hub as hub\n",
    "import tensorflow_datasets as tfds\n",
    "tfds.disable_progress_bar()\n",
    "\n",
    "from official.modeling import tf_utils\n",
    "from official import nlp\n",
    "from official.nlp import bert\n",
    "\n",
    "# Load the required submodules\n",
    "import official.nlp.optimization\n",
    "import official.nlp.bert.bert_models\n",
    "import official.nlp.bert.configs\n",
    "import official.nlp.bert.run_classifier\n",
    "import official.nlp.bert.tokenization\n",
    "import official.nlp.data.classifier_data_lib\n",
    "import official.nlp.modeling.losses\n",
    "import official.nlp.modeling.models\n",
    "import official.nlp.modeling.networks"
   ]
  },
  {
   "cell_type": "code",
   "execution_count": 4,
   "metadata": {
    "colab": {},
    "colab_type": "code",
    "id": "vzRHOLciR8eq"
   },
   "outputs": [
    {
     "data": {
      "text/plain": [
       "['bert_config.json',\n",
       " 'bert_model.ckpt.data-00000-of-00001',\n",
       " 'bert_model.ckpt.index',\n",
       " 'vocab.txt']"
      ]
     },
     "execution_count": 4,
     "metadata": {},
     "output_type": "execute_result"
    }
   ],
   "source": [
    "gs_folder_bert = \"gs://cloud-tpu-checkpoints/bert/keras_bert/uncased_L-12_H-768_A-12\"\n",
    "tf.io.gfile.listdir(gs_folder_bert)"
   ]
  },
  {
   "cell_type": "markdown",
   "metadata": {
    "colab_type": "text",
    "id": "9uFskufsR2LT"
   },
   "source": [
    "You can get a pre-trained BERT encoder from [TensorFlow Hub](https://tfhub.dev/tensorflow/bert_en_uncased_L-12_H-768_A-12/2):"
   ]
  },
  {
   "cell_type": "code",
   "execution_count": 5,
   "metadata": {
    "colab": {},
    "colab_type": "code",
    "id": "e0dAkUttJAzj"
   },
   "outputs": [],
   "source": [
    "hub_url_bert = \"https://tfhub.dev/tensorflow/bert_en_uncased_L-12_H-768_A-12/2\""
   ]
  },
  {
   "cell_type": "code",
   "execution_count": 6,
   "metadata": {
    "colab": {},
    "colab_type": "code",
    "id": "ujapVfZ_AKW7"
   },
   "outputs": [
    {
     "data": {
      "text/plain": [
       "{'attention_probs_dropout_prob': 0.1,\n",
       " 'hidden_act': 'gelu',\n",
       " 'hidden_dropout_prob': 0.1,\n",
       " 'hidden_size': 768,\n",
       " 'initializer_range': 0.02,\n",
       " 'intermediate_size': 3072,\n",
       " 'max_position_embeddings': 512,\n",
       " 'num_attention_heads': 12,\n",
       " 'num_hidden_layers': 12,\n",
       " 'type_vocab_size': 2,\n",
       " 'vocab_size': 30522}"
      ]
     },
     "execution_count": 6,
     "metadata": {},
     "output_type": "execute_result"
    }
   ],
   "source": [
    "import json\n",
    "\n",
    "bert_config_file = os.path.join(gs_folder_bert, \"bert_config.json\")\n",
    "config_dict = json.loads(tf.io.gfile.GFile(bert_config_file).read())\n",
    "\n",
    "bert_config = bert.configs.BertConfig.from_dict(config_dict)\n",
    "\n",
    "config_dict"
   ]
  },
  {
   "cell_type": "markdown",
   "metadata": {
    "colab_type": "text",
    "id": "96ldxDSwkVkj"
   },
   "source": [
    "The `config` defines the core BERT Model, which is a Keras model to predict the outputs of `num_classes` from the inputs with maximum sequence length `max_seq_length`.\n",
    "\n",
    "This function returns both the encoder and the classifier."
   ]
  },
  {
   "cell_type": "code",
   "execution_count": 7,
   "metadata": {
    "colab": {},
    "colab_type": "code",
    "id": "cH682__U0FBv"
   },
   "outputs": [],
   "source": [
    "max_seq_length = 128\n",
    "initializer = tf.keras.initializers.TruncatedNormal(\n",
    "        stddev=bert_config.initializer_range)\n",
    "bert_encoder = bert.bert_models.get_transformer_encoder(\n",
    "    bert_config, max_seq_length)\n",
    "\n",
    "input_word_ids = tf.keras.layers.Input(\n",
    "  shape=(max_seq_length,), dtype=tf.int32, name='input_word_ids')\n",
    "input_mask = tf.keras.layers.Input(\n",
    "  shape=(max_seq_length,), dtype=tf.int32, name='input_mask')\n",
    "input_type_ids = tf.keras.layers.Input(\n",
    "  shape=(max_seq_length,), dtype=tf.int32, name='input_type_ids')\n",
    "bert_model = hub.KerasLayer(hub_url_bert, trainable=True)\n",
    "pooled_output, seq_output = bert_model([input_word_ids, input_mask, input_type_ids])\n",
    "output1 = tf.keras.layers.Dropout(rate=bert_config.hidden_dropout_prob)(\n",
    "  pooled_output)\n",
    "\n",
    "output1 = tf.keras.layers.Dense(\n",
    "  2, kernel_initializer=initializer, name='output1')(\n",
    "      output1)\n",
    "\n",
    "output2 = tf.keras.layers.Dropout(rate=bert_config.hidden_dropout_prob)(\n",
    "  pooled_output)\n",
    "\n",
    "output2 = tf.keras.layers.Dense(\n",
    "  3, kernel_initializer=initializer, name='output2')(\n",
    "      output2)\n",
    "\n",
    "model = tf.keras.Model(\n",
    "      inputs={\n",
    "          'input_word_ids': input_word_ids,\n",
    "          'input_mask': input_mask,\n",
    "          'input_type_ids': input_type_ids\n",
    "      },\n",
    "      outputs=[output1, output2])"
   ]
  },
  {
   "cell_type": "code",
   "execution_count": 8,
   "metadata": {
    "colab": {},
    "colab_type": "code",
    "id": "bAQblMIjwkvx"
   },
   "outputs": [
    {
     "data": {
      "image/png": "[encoded data removed]",
      "text/plain": [
       "<IPython.core.display.Image object>"
      ]
     },
     "execution_count": 8,
     "metadata": {},
     "output_type": "execute_result"
    }
   ],
   "source": [
    "tf.keras.utils.plot_model(model, show_shapes=True, dpi=48)"
   ]
  },
  {
   "cell_type": "code",
   "execution_count": 9,
   "metadata": {
    "colab": {},
    "colab_type": "code",
    "id": "8L__-erBwLIQ"
   },
   "outputs": [],
   "source": [
    "#tf.keras.utils.plot_model(bert_encoder, show_shapes=True, dpi=48)"
   ]
  },
  {
   "cell_type": "code",
   "execution_count": 10,
   "metadata": {
    "colab": {},
    "colab_type": "code",
    "id": "w8qXKRZuCwW4"
   },
   "outputs": [],
   "source": [
    "# Set up epochs and steps\n",
    "epochs = 3\n",
    "batch_size = 32\n",
    "eval_batch_size = 32\n",
    "\n",
    "# get train_data_size from metadata\n",
    "train_data_size = 1000\n",
    "steps_per_epoch = int(train_data_size / batch_size)\n",
    "num_train_steps = steps_per_epoch * epochs\n",
    "warmup_steps = int(epochs * train_data_size * 0.1 / batch_size)\n",
    "\n",
    "# creates an optimizer with learning rate schedule\n",
    "optimizer = nlp.optimization.create_optimizer(\n",
    "    2e-5, num_train_steps=num_train_steps, num_warmup_steps=warmup_steps)"
   ]
  },
  {
   "cell_type": "code",
   "execution_count": 11,
   "metadata": {
    "colab": {},
    "colab_type": "code",
    "id": "eQNA16bhDpky"
   },
   "outputs": [
    {
     "data": {
      "text/plain": [
       "official.nlp.optimization.AdamWeightDecay"
      ]
     },
     "execution_count": 11,
     "metadata": {},
     "output_type": "execute_result"
    }
   ],
   "source": [
    "type(optimizer)"
   ]
  },
  {
   "cell_type": "code",
   "execution_count": 12,
   "metadata": {
    "colab": {},
    "colab_type": "code",
    "id": "gCvaLLAxPuMc"
   },
   "outputs": [],
   "source": [
    "# def create_classifier_dataset(file_path, seq_length, batch_size, is_training):\n",
    "#   \"\"\"Creates input dataset from (tf)records files for train/eval.\"\"\"\n",
    "#   dataset = tf.data.TFRecordDataset(file_path)\n",
    "#   if is_training:\n",
    "#     dataset = dataset.shuffle(100)\n",
    "#     dataset = dataset.repeat()\n",
    "\n",
    "#   def decode_record(record):\n",
    "#     name_to_features = {\n",
    "#       'is_real_example': tf.io.FixedLenFeature([], tf.int64),\n",
    "#       'input_ids': tf.io.FixedLenFeature([seq_length], tf.int64),\n",
    "#       'input_mask': tf.io.FixedLenFeature([seq_length], tf.int64),\n",
    "#       'segment_ids': tf.io.FixedLenFeature([seq_length], tf.int64),\n",
    "#       'label_ids': tf.io.FixedLenFeature([], tf.int64),\n",
    "#       'example_id': tf.io.FixedLenFeature([], tf.int64),\n",
    "#     }    \n",
    "#     return tf.io.parse_single_example(record, name_to_features)\n",
    "\n",
    "#   def _select_data_from_record(record):\n",
    "#     return ({\n",
    "#         'input_word_ids': record['input_ids'],\n",
    "#         'input_mask': record['input_mask'],\n",
    "#         'input_type_ids': record['segment_ids']\n",
    "#     }, (record['label_ids'], -tf.ones([seq_length], dtype=tf.int64)))\n",
    "\n",
    "#   dataset = dataset.map(decode_record,\n",
    "#                         num_parallel_calls=tf.data.experimental.AUTOTUNE)\n",
    "#   dataset = dataset.map(\n",
    "#       _select_data_from_record,\n",
    "#       num_parallel_calls=tf.data.experimental.AUTOTUNE)\n",
    "#   # dataset = dataset.batch(batch_size, drop_remainder=is_training)\n",
    "#   dataset = dataset.prefetch(tf.data.experimental.AUTOTUNE)\n",
    "#   return dataset"
   ]
  },
  {
   "cell_type": "code",
   "execution_count": 13,
   "metadata": {},
   "outputs": [],
   "source": [
    "# def create_classifier_dataset(file_path, seq_length, batch_size, is_training):\n",
    "#   \"\"\"Creates input dataset from (tf)records files for train/eval.\"\"\"\n",
    "#   dataset = tf.data.TFRecordDataset(file_path)\n",
    "#   if is_training:\n",
    "#     dataset = dataset.shuffle(100)\n",
    "#     dataset = dataset.repeat()\n",
    "\n",
    "#   def decode_record(record):\n",
    "#     name_to_features = {\n",
    "#       'input_ids': tf.io.FixedLenFeature([seq_length], tf.int64),\n",
    "#       'input_mask': tf.io.FixedLenFeature([seq_length], tf.int64),\n",
    "#       'segment_ids': tf.io.FixedLenFeature([seq_length], tf.int64),\n",
    "#       'label_ids': tf.io.FixedLenFeature([], tf.int64),\n",
    "#     }\n",
    "#     return tf.io.parse_single_example(record, name_to_features)\n",
    "\n",
    "#   def _select_data_from_record(record):\n",
    "#     x = {\n",
    "#         'input_word_ids': record['input_ids'],\n",
    "#         'input_mask': record['input_mask'],\n",
    "#         'input_type_ids': record['segment_ids']\n",
    "#     }\n",
    "#     y = record['label_ids']\n",
    "#     return (x, y)\n",
    "\n",
    "#   dataset = dataset.map(decode_record,\n",
    "#                         num_parallel_calls=tf.data.experimental.AUTOTUNE)\n",
    "#   dataset = dataset.map(\n",
    "#       _select_data_from_record,\n",
    "#       num_parallel_calls=tf.data.experimental.AUTOTUNE)\n",
    "#   #dataset = dataset.batch(batch_size, drop_remainder=is_training)\n",
    "#   dataset = dataset.prefetch(tf.data.experimental.AUTOTUNE)\n",
    "#   return dataset"
   ]
  },
  {
   "cell_type": "code",
   "execution_count": 14,
   "metadata": {},
   "outputs": [],
   "source": [
    "def create_tagging_dataset(file_path, seq_length, batch_size, is_training):\n",
    "  \"\"\"Creates input dataset from (tf)records files for train/eval.\"\"\"\n",
    "  dataset = tf.data.TFRecordDataset(file_path)\n",
    "  if is_training:\n",
    "    dataset = dataset.shuffle(100)\n",
    "    dataset = dataset.repeat()\n",
    "\n",
    "  def decode_record(record):\n",
    "    name_to_features = {\n",
    "      'input_ids': tf.io.FixedLenFeature([seq_length], tf.int64),\n",
    "      'input_mask': tf.io.FixedLenFeature([seq_length], tf.int64),\n",
    "      'segment_ids': tf.io.FixedLenFeature([seq_length], tf.int64),\n",
    "      'label_ids': tf.io.FixedLenFeature([seq_length], tf.int64),\n",
    "      'sub_sentence_id': tf.io.FixedLenFeature([], tf.int64),\n",
    "      'sentence_id': tf.io.FixedLenFeature([], tf.int64),\n",
    "    }    \n",
    "    return tf.io.parse_single_example(record, name_to_features)\n",
    "\n",
    "  def _select_data_from_record(record):\n",
    "    return ({\n",
    "        'input_word_ids': record['input_ids'],\n",
    "        'input_mask': record['input_mask'],\n",
    "        'input_type_ids': record['segment_ids']\n",
    "    }, (-tf.ones([], dtype=tf.int64), record['label_ids']))\n",
    "\n",
    "  dataset = dataset.map(decode_record,\n",
    "                        num_parallel_calls=tf.data.experimental.AUTOTUNE)\n",
    "  dataset = dataset.map(\n",
    "      _select_data_from_record,\n",
    "      num_parallel_calls=tf.data.experimental.AUTOTUNE)\n",
    "  # dataset = dataset.batch(batch_size, drop_remainder=is_training)\n",
    "  dataset = dataset.prefetch(tf.data.experimental.AUTOTUNE)\n",
    "  return dataset"
   ]
  },
  {
   "cell_type": "code",
   "execution_count": 15,
   "metadata": {},
   "outputs": [],
   "source": [
    "from typing import Mapping, Optional\n",
    "\n",
    "import dataclasses\n",
    "import tensorflow as tf\n",
    "\n",
    "from official.core import input_reader\n",
    "from official.modeling.hyperparams import config_definitions as cfg\n",
    "from official.nlp.data import data_loader\n",
    "from official.nlp.data import data_loader_factory\n",
    "\n",
    "\n",
    "@dataclasses.dataclass\n",
    "class TaggingDataConfig(cfg.DataConfig):\n",
    "  \"\"\"Data config for tagging (tasks/tagging).\"\"\"\n",
    "  is_training: bool = True\n",
    "  seq_length: int = 128\n",
    "  include_sentence_id: bool = False\n",
    "\n",
    "\n",
    "@data_loader_factory.register_data_loader_cls(TaggingDataConfig)\n",
    "class TaggingDataLoader(data_loader.DataLoader):\n",
    "  \"\"\"A class to load dataset for tagging (e.g., NER and POS) task.\"\"\"\n",
    "\n",
    "  def __init__(self, params: TaggingDataConfig):\n",
    "    self._params = params\n",
    "    self._seq_length = params.seq_length\n",
    "    self._include_sentence_id = params.include_sentence_id\n",
    "\n",
    "  def _decode(self, record: tf.Tensor):\n",
    "    \"\"\"Decodes a serialized tf.Example.\"\"\"\n",
    "    name_to_features = {\n",
    "        'input_ids': tf.io.FixedLenFeature([self._seq_length], tf.int64),\n",
    "        'input_mask': tf.io.FixedLenFeature([self._seq_length], tf.int64),\n",
    "        'segment_ids': tf.io.FixedLenFeature([self._seq_length], tf.int64),\n",
    "        'label_ids': tf.io.FixedLenFeature([self._seq_length], tf.int64),\n",
    "    }\n",
    "    if self._include_sentence_id:\n",
    "      name_to_features['sentence_id'] = tf.io.FixedLenFeature([], tf.int64)\n",
    "      name_to_features['sub_sentence_id'] = tf.io.FixedLenFeature([], tf.int64)\n",
    "\n",
    "    example = tf.io.parse_single_example(record, name_to_features)\n",
    "\n",
    "    # tf.Example only supports tf.int64, but the TPU only supports tf.int32.\n",
    "    # So cast all int64 to int32.\n",
    "    for name in example:\n",
    "      t = example[name]\n",
    "      if t.dtype == tf.int64:\n",
    "        t = tf.cast(t, tf.int32)\n",
    "      example[name] = t\n",
    "\n",
    "    return example\n",
    "\n",
    "  def _parse(self, record: Mapping[str, tf.Tensor]):\n",
    "    \"\"\"Parses raw tensors into a dict of tensors to be consumed by the model.\"\"\"\n",
    "    x = {\n",
    "        'input_word_ids': record['input_ids'],\n",
    "        'input_mask': record['input_mask'],\n",
    "        'input_type_ids': record['segment_ids']\n",
    "    }\n",
    "    if self._include_sentence_id:\n",
    "      x['sentence_id'] = record['sentence_id']\n",
    "      x['sub_sentence_id'] = record['sub_sentence_id']\n",
    "\n",
    "    y = record['label_ids']\n",
    "    return (x, y)\n",
    "\n",
    "  def load(self, input_context: Optional[tf.distribute.InputContext] = None):\n",
    "    \"\"\"Returns a tf.dataset.Dataset.\"\"\"\n",
    "    reader = input_reader.InputReader(\n",
    "        params=self._params, decoder_fn=self._decode, parser_fn=self._parse)\n",
    "    return reader.read(input_context)"
   ]
  },
  {
   "cell_type": "code",
   "execution_count": 16,
   "metadata": {},
   "outputs": [],
   "source": [
    "def single_file_dataset(input_file, name_to_features, num_samples=None):\n",
    "  \"\"\"Creates a single-file dataset to be passed for BERT custom training.\"\"\"\n",
    "  # For training, we want a lot of parallel reading and shuffling.\n",
    "  # For eval, we want no shuffling and parallel reading doesn't matter.\n",
    "  d = tf.data.TFRecordDataset(input_file)\n",
    "  if num_samples:\n",
    "    d = d.take(num_samples)\n",
    "  d = d.map(\n",
    "      lambda record: decode_record(record, name_to_features),\n",
    "      num_parallel_calls=tf.data.experimental.AUTOTUNE)\n",
    "\n",
    "  # When `input_file` is a path to a single file or a list\n",
    "  # containing a single path, disable auto sharding so that\n",
    "  # same input file is sent to all workers.\n",
    "  if isinstance(input_file, str) or len(input_file) == 1:\n",
    "    options = tf.data.Options()\n",
    "    options.experimental_distribute.auto_shard_policy = (\n",
    "        tf.data.experimental.AutoShardPolicy.OFF)\n",
    "    d = d.with_options(options)\n",
    "  return d"
   ]
  },
  {
   "cell_type": "code",
   "execution_count": 17,
   "metadata": {},
   "outputs": [],
   "source": [
    "def decode_record(record, name_to_features):\n",
    "  \"\"\"Decodes a record to a TensorFlow example.\"\"\"\n",
    "  example = tf.io.parse_single_example(record, name_to_features)\n",
    "\n",
    "  # tf.Example only supports tf.int64, but the TPU only supports tf.int32.\n",
    "  # So cast all int64 to int32.\n",
    "  for name in list(example.keys()):\n",
    "    t = example[name]\n",
    "    if t.dtype == tf.int64:\n",
    "      t = tf.cast(t, tf.int32)\n",
    "    example[name] = t\n",
    "\n",
    "  return example"
   ]
  },
  {
   "cell_type": "code",
   "execution_count": 18,
   "metadata": {},
   "outputs": [],
   "source": [
    "import pdb"
   ]
  },
  {
   "cell_type": "code",
   "execution_count": 19,
   "metadata": {},
   "outputs": [],
   "source": [
    "def create_classifier_dataset(file_path,\n",
    "                              seq_length,\n",
    "                              batch_size,\n",
    "                              task_id,\n",
    "                              is_training=True,\n",
    "                              input_pipeline_context=None,\n",
    "                              label_type=tf.int64,\n",
    "                              include_sample_weights=False,\n",
    "                              num_samples=None):\n",
    "  \"\"\"Creates input dataset from (tf)records files for train/eval.\"\"\"\n",
    "  name_to_features = {\n",
    "      'input_ids': tf.io.FixedLenFeature([seq_length], tf.int64),\n",
    "      'input_mask': tf.io.FixedLenFeature([seq_length], tf.int64),\n",
    "      'segment_ids': tf.io.FixedLenFeature([seq_length], tf.int64),\n",
    "      'label_ids': tf.io.FixedLenFeature([], label_type),\n",
    "  }\n",
    "  if include_sample_weights:\n",
    "    name_to_features['weight'] = tf.io.FixedLenFeature([], tf.float32)\n",
    "  dataset = single_file_dataset(file_path, name_to_features,\n",
    "                                num_samples=num_samples)\n",
    "\n",
    "  # The dataset is always sharded by number of hosts.\n",
    "  # num_input_pipelines is the number of hosts rather than number of cores.\n",
    "  if input_pipeline_context and input_pipeline_context.num_input_pipelines > 1:\n",
    "    dataset = dataset.shard(input_pipeline_context.num_input_pipelines,\n",
    "                            input_pipeline_context.input_pipeline_id)\n",
    "\n",
    "  def _select_data_from_record(record):\n",
    "    x = {\n",
    "        'input_word_ids': record['input_ids'],\n",
    "        'input_mask': record['input_mask'],\n",
    "        'input_type_ids': record['segment_ids']\n",
    "    }\n",
    "    #pdb.set_trace()\n",
    "    y = record['label_ids']\n",
    "    if include_sample_weights:\n",
    "      w = record['weight']\n",
    "      return (x, y, w)\n",
    "    default = tf.constant(-1, dtype=tf.int32)\n",
    "    if task_id ==0:\n",
    "      return (x, [y, default])\n",
    "    if task_id == 1:\n",
    "      return (x, [default,y])\n",
    "\n",
    "  if is_training:\n",
    "    dataset = dataset.shuffle(100)\n",
    "    dataset = dataset.repeat()\n",
    "\n",
    "  dataset = dataset.map(\n",
    "      _select_data_from_record,\n",
    "      num_parallel_calls=tf.data.experimental.AUTOTUNE)\n",
    "  #dataset = dataset.batch(batch_size, drop_remainder=is_training)\n",
    "  dataset = dataset.prefetch(tf.data.experimental.AUTOTUNE)\n",
    "  return dataset"
   ]
  },
  {
   "cell_type": "markdown",
   "metadata": {},
   "source": [
    "### Data sampling (using proportional sampling technique)"
   ]
  },
  {
   "cell_type": "code",
   "execution_count": 20,
   "metadata": {},
   "outputs": [
    {
     "name": "stdout",
     "output_type": "stream",
     "text": [
      "WARNING:tensorflow:From <ipython-input-20-96169b7cdfc6>:6: tf_record_iterator (from tensorflow.python.lib.io.tf_record) is deprecated and will be removed in a future version.\n",
      "Instructions for updating:\n",
      "Use eager execution and: \n",
      "`tf.data.TFRecordDataset(path)`\n"
     ]
    },
    {
     "name": "stderr",
     "output_type": "stream",
     "text": [
      "WARNING:tensorflow:From <ipython-input-20-96169b7cdfc6>:6: tf_record_iterator (from tensorflow.python.lib.io.tf_record) is deprecated and will be removed in a future version.\n",
      "Instructions for updating:\n",
      "Use eager execution and: \n",
      "`tf.data.TFRecordDataset(path)`\n"
     ]
    },
    {
     "name": "stdout",
     "output_type": "stream",
     "text": [
      "49401\n",
      "392702\n"
     ]
    },
    {
     "data": {
      "text/plain": [
       "[0.11174092914999446, 0.8882590708500055]"
      ]
     },
     "execution_count": 20,
     "metadata": {},
     "output_type": "execute_result"
    }
   ],
   "source": [
    "tf_records_filenames = [\"gs://nts2020/xtereme/pawsx/train.en.tfrecords\", \"gs://nts2020/xtereme/xnli/train.en.tfrecords\"]\n",
    "\n",
    "sampling_factor = []\n",
    "for fn in tf_records_filenames:\n",
    "    c = 0\n",
    "    for record in tf.compat.v1.python_io.tf_record_iterator(fn):\n",
    "        c += 1\n",
    "    sampling_factor.append(c)\n",
    "    print(c)\n",
    "c = sum(sampling_factor)\n",
    "for i in range(0, len(sampling_factor)):\n",
    "    sampling_factor[i] = sampling_factor[i]/c\n",
    "sampling_factor"
   ]
  },
  {
   "cell_type": "code",
   "execution_count": 21,
   "metadata": {
    "colab": {},
    "colab_type": "code",
    "id": "rutkBadrhzdR"
   },
   "outputs": [],
   "source": [
    "# Set up batch sizes\n",
    "batch_size = 64\n",
    "eval_batch_size = 64\n",
    "\n",
    "# Return Tensorflow dataset\n",
    "paws_training_dataset = create_classifier_dataset(\n",
    "    \"gs://nts2020/xtereme/pawsx/train.en.tfrecords\",\n",
    "    128,\n",
    "    batch_size,\n",
    "    task_id = 0,\n",
    "    is_training=True)\n",
    "\n",
    "xnli_training_dataset = create_classifier_dataset(\n",
    "    \"gs://nts2020/xtereme/xnli/train.en.tfrecords\",\n",
    "    128,\n",
    "    batch_size,\n",
    "    task_id = 1,\n",
    "    is_training=True)\n"
   ]
  },
  {
   "cell_type": "code",
   "execution_count": 22,
   "metadata": {},
   "outputs": [
    {
     "data": {
      "text/plain": [
       "({'input_word_ids': TensorSpec(shape=(128,), dtype=tf.int32, name=None),\n",
       "  'input_mask': TensorSpec(shape=(128,), dtype=tf.int32, name=None),\n",
       "  'input_type_ids': TensorSpec(shape=(128,), dtype=tf.int32, name=None)},\n",
       " TensorSpec(shape=(2,), dtype=tf.int32, name=None))"
      ]
     },
     "execution_count": 22,
     "metadata": {},
     "output_type": "execute_result"
    }
   ],
   "source": [
    "paws_training_dataset.element_spec"
   ]
  },
  {
   "cell_type": "code",
   "execution_count": 23,
   "metadata": {},
   "outputs": [
    {
     "data": {
      "text/plain": [
       "({'input_word_ids': TensorSpec(shape=(128,), dtype=tf.int32, name=None),\n",
       "  'input_mask': TensorSpec(shape=(128,), dtype=tf.int32, name=None),\n",
       "  'input_type_ids': TensorSpec(shape=(128,), dtype=tf.int32, name=None)},\n",
       " TensorSpec(shape=(2,), dtype=tf.int32, name=None))"
      ]
     },
     "execution_count": 23,
     "metadata": {},
     "output_type": "execute_result"
    }
   ],
   "source": [
    "xnli_training_dataset.element_spec"
   ]
  },
  {
   "cell_type": "code",
   "execution_count": 24,
   "metadata": {
    "colab": {},
    "colab_type": "code",
    "id": "59TVgt4Z7fuU"
   },
   "outputs": [],
   "source": [
    "training_dataset = tf.data.experimental.sample_from_datasets(\n",
    "    [paws_training_dataset, xnli_training_dataset], weights=tf.constant([sampling_factor[0], sampling_factor[1]])\n",
    ")"
   ]
  },
  {
   "cell_type": "code",
   "execution_count": 25,
   "metadata": {},
   "outputs": [],
   "source": [
    "paws_eval_dataset = create_classifier_dataset(\n",
    "    \"gs://nts2020/xtereme/pawsx/eval.en.tfrecords\",\n",
    "    128,\n",
    "    batch_size,\n",
    "    task_id = 0,\n",
    "    is_training=True)"
   ]
  },
  {
   "cell_type": "code",
   "execution_count": 26,
   "metadata": {},
   "outputs": [],
   "source": [
    "xnli_eval_dataset = create_classifier_dataset(\n",
    "    \"gs://nts2020/xtereme/xnli/eval.en.tfrecords\",\n",
    "    128,\n",
    "    batch_size,\n",
    "    task_id =1,\n",
    "    is_training=True)"
   ]
  },
  {
   "cell_type": "code",
   "execution_count": 27,
   "metadata": {},
   "outputs": [],
   "source": [
    "evaluation_dataset = tf.data.experimental.sample_from_datasets(\n",
    "    [paws_eval_dataset, xnli_eval_dataset], weights=tf.constant([sampling_factor[0], sampling_factor[1]])\n",
    ")"
   ]
  },
  {
   "cell_type": "code",
   "execution_count": 28,
   "metadata": {},
   "outputs": [
    {
     "data": {
      "text/plain": [
       "({'input_word_ids': TensorSpec(shape=(128,), dtype=tf.int32, name=None),\n",
       "  'input_mask': TensorSpec(shape=(128,), dtype=tf.int32, name=None),\n",
       "  'input_type_ids': TensorSpec(shape=(128,), dtype=tf.int32, name=None)},\n",
       " TensorSpec(shape=(2,), dtype=tf.int32, name=None))"
      ]
     },
     "execution_count": 28,
     "metadata": {},
     "output_type": "execute_result"
    }
   ],
   "source": [
    "training_dataset.element_spec"
   ]
  },
  {
   "cell_type": "code",
   "execution_count": 29,
   "metadata": {},
   "outputs": [
    {
     "data": {
      "text/plain": [
       "({'input_word_ids': TensorSpec(shape=(128,), dtype=tf.int32, name=None),\n",
       "  'input_mask': TensorSpec(shape=(128,), dtype=tf.int32, name=None),\n",
       "  'input_type_ids': TensorSpec(shape=(128,), dtype=tf.int32, name=None)},\n",
       " TensorSpec(shape=(2,), dtype=tf.int32, name=None))"
      ]
     },
     "execution_count": 29,
     "metadata": {},
     "output_type": "execute_result"
    }
   ],
   "source": [
    "paws_eval_dataset.element_spec"
   ]
  },
  {
   "cell_type": "code",
   "execution_count": 30,
   "metadata": {},
   "outputs": [
    {
     "data": {
      "text/plain": [
       "({'input_word_ids': TensorSpec(shape=(128,), dtype=tf.int32, name=None),\n",
       "  'input_mask': TensorSpec(shape=(128,), dtype=tf.int32, name=None),\n",
       "  'input_type_ids': TensorSpec(shape=(128,), dtype=tf.int32, name=None)},\n",
       " TensorSpec(shape=(2,), dtype=tf.int32, name=None))"
      ]
     },
     "execution_count": 30,
     "metadata": {},
     "output_type": "execute_result"
    }
   ],
   "source": [
    "xnli_eval_dataset.element_spec"
   ]
  },
  {
   "cell_type": "code",
   "execution_count": 31,
   "metadata": {},
   "outputs": [
    {
     "data": {
      "text/plain": [
       "({'input_word_ids': TensorSpec(shape=(128,), dtype=tf.int32, name=None),\n",
       "  'input_mask': TensorSpec(shape=(128,), dtype=tf.int32, name=None),\n",
       "  'input_type_ids': TensorSpec(shape=(128,), dtype=tf.int32, name=None)},\n",
       " TensorSpec(shape=(2,), dtype=tf.int32, name=None))"
      ]
     },
     "execution_count": 31,
     "metadata": {},
     "output_type": "execute_result"
    }
   ],
   "source": [
    "evaluation_dataset.element_spec"
   ]
  },
  {
   "cell_type": "code",
   "execution_count": 32,
   "metadata": {},
   "outputs": [],
   "source": [
    "\n",
    "training_dataset = training_dataset.batch(batch_size)\n",
    "evaluation_dataset = evaluation_dataset.batch(batch_size)"
   ]
  },
  {
   "cell_type": "code",
   "execution_count": 33,
   "metadata": {},
   "outputs": [],
   "source": [
    "# tf.config.run_functions_eagerly(True)\n"
   ]
  },
  {
   "cell_type": "code",
   "execution_count": 34,
   "metadata": {},
   "outputs": [],
   "source": [
    "# def _loss_with_filter(y_true, y_pred):\n",
    "#   #pdb.set_trace()\n",
    "#   num_labels = y_pred.get_shape().as_list()[-1]\n",
    "#   log_probs = tf.nn.log_softmax(y_pred, axis=-1)\n",
    "#   log_probs = tf.reshape(log_probs, [-1, num_labels])\n",
    "#   labels = tf.reshape(y_true, [-1])\n",
    "    \n",
    "#   if y_pred.get_shape().as_list()[-1] == 2:\n",
    "#       one_hot_labels = tf.identity(labels)\n",
    "#       one_hot_labels = tf.cast(one_hot_labels, tf.float32)  \n",
    "#   else:\n",
    "#       one_hot_labels = tf.one_hot(labels, depth=num_labels, dtype=tf.float32)\n",
    "#   per_example_loss = -tf.reduce_sum(one_hot_labels * log_probs, axis=-1)\n",
    "#   loss = tf.reduce_mean(per_example_loss)\n",
    "#   pdb.set_trace()\n",
    "#   return loss"
   ]
  },
  {
   "cell_type": "code",
   "execution_count": 35,
   "metadata": {},
   "outputs": [],
   "source": [
    "import pdb"
   ]
  },
  {
   "cell_type": "code",
   "execution_count": 36,
   "metadata": {},
   "outputs": [],
   "source": [
    "def _loss_mod(y_true, y_pred):\n",
    "  #pdb.set_trace()\n",
    "  num_labels = y_pred.get_shape().as_list()[-1]\n",
    "  task_id = tf.math.argmax(input = y_true[-1])\n",
    "  #labels = tf.reshape(y_true, [-1])\n",
    "  one_hot_labels = tf.one_hot(y_true[-1][task_id], depth=num_labels, dtype=tf.float32) \n",
    "  #tf.print(one_hot_labels)\n",
    "  #one_hot_labels = tf.compat.v1.Print(one_hot_labels, [y_true, y_pred], 'output = ', summarize=500)\n",
    "  log_probs = tf.nn.log_softmax(y_pred, axis=-1)\n",
    "  per_example_loss = -tf.reduce_sum(one_hot_labels * log_probs, axis=-1)\n",
    "  loss = tf.reduce_mean(per_example_loss) \n",
    "  #pdb.set_trace()\n",
    "  return loss"
   ]
  },
  {
   "cell_type": "code",
   "execution_count": null,
   "metadata": {},
   "outputs": [],
   "source": []
  },
  {
   "cell_type": "code",
   "execution_count": null,
   "metadata": {},
   "outputs": [
    {
     "name": "stdout",
     "output_type": "stream",
     "text": [
      "Epoch 1/3\n",
      "1000/1000 [==============================] - 1670s 2s/step - loss: 1.6130 - output1_loss: 0.5317 - output2_loss: 1.0813 - output1_accuracy: 0.4548 - output2_accuracy: 0.2606 - val_loss: 1.5781 - val_output1_loss: 0.4172 - val_output2_loss: 1.1610 - val_output1_accuracy: 0.4062 - val_output2_accuracy: 0.1281\n",
      "Epoch 2/3\n",
      " 483/1000 [=============>................] - ETA: 14:21 - loss: 1.6035 - output1_loss: 0.4996 - output2_loss: 1.1040 - output1_accuracy: 0.4643 - output2_accuracy: 0.2663"
     ]
    }
   ],
   "source": [
    "\n",
    "metrics = [tf.keras.metrics.CategoricalAccuracy('accuracy', dtype=tf.float32)]\n",
    "loss1 = tf.keras.losses.CategoricalCrossentropy(from_logits=True)\n",
    "loss2 = tf.keras.losses.SparseCategoricalCrossentropy(from_logits=True)\n",
    "\n",
    "model.compile(optimizer = optimizer, loss = [_loss_mod, _loss_mod], metrics = metrics)\n",
    "model.fit(training_dataset, batch_size = batch_size, epochs= 3, steps_per_epoch = 1000, validation_data=evaluation_dataset, validation_steps=10)\n"
   ]
  },
  {
   "cell_type": "code",
   "execution_count": null,
   "metadata": {},
   "outputs": [],
   "source": [
    "#metrics = [tf.keras.metrics.SparseCategoricalAccuracy('accuracy1', dtype=tf.float32),\n",
    "#            tf.keras.metrics.SparseCategoricalAccuracy('accuracy2', dtype=tf.float32)]\n",
    "\n",
    "metrics = [tf.keras.metrics.CategoricalAccuracy('accuracy', dtype=tf.float32), tf.keras.metrics.]\n",
    "loss1 = tf.keras.losses.CategoricalCrossentropy(from_logits=True)\n",
    "loss2 = tf.keras.losses.SparseCategoricalCrossentropy(from_logits=True)\n",
    "\n",
    "# TODO(henrytsai):\n",
    "# def _loss_with_filter(y_true, y_pred):\n",
    "# filters out `-1` labels.\n",
    "\n",
    "# training_dataset = training_dataset.batch(32)\n",
    "# model.compile(\n",
    "#     optimizer=optimizer,\n",
    "#     # Add more losses here.\n",
    "#     loss=[loss1, loss2])\n",
    "\n",
    "training_dataset = training_dataset.batch(32)\n",
    "# paws_training_dataset = paws_training_dataset.batch(32)\n",
    "# xnli_training_dataset = xnli_training_dataset.batch(32)\n",
    "model.compile(optimizer = optimizer, loss = [_loss_with_filter, _loss_with_filter], metrics = metrics)\n",
    "model.fit(training_dataset, batch_size = 32, epochs= epochs, steps_per_epoch = 1000)\n",
    "# model.fit(\n",
    "#       training_dataset,\n",
    "#       batch_size=32,\n",
    "#       epochs=epochs,\n",
    "#       steps_per_epoch=1000)"
   ]
  },
  {
   "cell_type": "code",
   "execution_count": null,
   "metadata": {},
   "outputs": [],
   "source": [
    "paws_training_dataset = paws_training_dataset.batch(2, drop_remainder=True)"
   ]
  },
  {
   "cell_type": "code",
   "execution_count": null,
   "metadata": {},
   "outputs": [],
   "source": [
    "paws_training_dataset = create_classifier_dataset(\n",
    "    \"gs://nts2020/xtereme/pawsx/train.en.tfrecords\",\n",
    "    128,\n",
    "    batch_size,\n",
    "    is_training=True)"
   ]
  },
  {
   "cell_type": "code",
   "execution_count": null,
   "metadata": {},
   "outputs": [],
   "source": [
    "udpos_training_dataset = udpos_training_dataset.batch(2)"
   ]
  },
  {
   "cell_type": "code",
   "execution_count": null,
   "metadata": {},
   "outputs": [],
   "source": [
    "for element in paws_training_dataset.as_numpy_iterator():\n",
    "  print(element)\n",
    "  break\n"
   ]
  },
  {
   "cell_type": "code",
   "execution_count": null,
   "metadata": {},
   "outputs": [],
   "source": [
    "for element in xnli_training_dataset.as_numpy_iterator():\n",
    "  print(element)\n",
    "  break\n"
   ]
  },
  {
   "cell_type": "code",
   "execution_count": null,
   "metadata": {},
   "outputs": [],
   "source": [
    "for element in training_dataset.as_numpy_iterator():\n",
    "  print(element)\n",
    "  break"
   ]
  },
  {
   "cell_type": "code",
   "execution_count": null,
   "metadata": {},
   "outputs": [],
   "source": [
    "for element in evaluation_dataset.as_numpy_iterator():\n",
    "  print(element[0]['input_word_ids'].shape)\n",
    "  break"
   ]
  },
  {
   "cell_type": "code",
   "execution_count": null,
   "metadata": {},
   "outputs": [],
   "source": []
  }
 ],
 "metadata": {
  "accelerator": "GPU",
  "colab": {
   "collapsed_sections": [],
   "name": "fine_tuning_bert.ipynb",
   "private_outputs": true,
   "provenance": [],
   "toc_visible": true
  },
  "environment": {
   "name": "common-cu101.m55",
   "type": "gcloud",
   "uri": "gcr.io/deeplearning-platform-release/base-cu101:m55"
  },
  "kernelspec": {
   "display_name": "Python 3",
   "language": "python",
   "name": "python3"
  },
  "language_info": {
   "codemirror_mode": {
    "name": "ipython",
    "version": 3
   },
   "file_extension": ".py",
   "mimetype": "text/x-python",
   "name": "python",
   "nbconvert_exporter": "python",
   "pygments_lexer": "ipython3",
   "version": "3.7.8"
  }
 },
 "nbformat": 4,
 "nbformat_minor": 4
}
